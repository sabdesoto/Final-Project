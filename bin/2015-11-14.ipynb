{
 "cells": [
  {
   "cell_type": "markdown",
   "metadata": {},
   "source": [
    "#Sab's Edits:\n",
    "- put the libraries in each function\n",
    "- edited comments so they're more about functions process and less of a narrative\n",
    "- why those names for your functions? Make them more descriptive of what they're doing\n",
    "- put outputs right under functions for visual confirmation (how else would I know they work?)\n",
    "- minor spelling mistakes corrected\n",
    "- tried to combine lm summary and plot\n",
    "- what do you want to save? \n"
   ]
  },
  {
   "cell_type": "code",
   "execution_count": 42,
   "metadata": {
    "collapsed": false
   },
   "outputs": [],
   "source": [
    "def linear_model(x, y):\n",
    "    '''calculate the linear regression from the choosen variables\n",
    "    input: independent variable (x), and dependent variable (y)\n",
    "    output: linear model'''\n",
    "    #step 1)import libraries\n",
    "    import statsmodels.api as sm\n",
    "    import pandas as pd\n",
    "    from matplotlib import pyplot, pylab\n",
    "    \n",
    "    # using assert to make sure the base conditions are met before running the function\n",
    "    # base conditions (x,y) should have at least two values, the dataset should not be empty\n",
    "    assert len(x) > 1, 'Independent variable (x) should have at least two values'\n",
    "    assert len(y) > 1, 'Dependent variable (y) should have at least two values'\n",
    "    \n",
    "    #run linear regression from the input dataset and it's x and y variables\n",
    "    linear_model = sm.formula.ols(formula = 'y ~ x', data = data).fit()\n",
    "    \n",
    "    # generate a data frame using pandas to produce a list of numbers \n",
    "    #list ranges 1 to the same length as the x variable\n",
    "    newx = pd.DataFrame({'newdata' : range(1,len(x)+1)})\n",
    "    \n",
    "    #save summary?\n",
    "    #linear_model.summary.to_cvs('filepath', delimeter='?')\n",
    "    \n",
    "    #include lm plot\n",
    "    # using the .predict to predict the y based on x\n",
    "    y_preds = linear_model.predict(newx)\n",
    "    \n",
    "    X = sm.add_constant(x)\n",
    "    linear_model = sm.formula.OLS(y, X).fit()\n",
    "    \n",
    "    x_pred = np.linspace(x.min(),x.max(), 30)\n",
    "    \n",
    "    x_pred2 = sm.add_constant(x_pred)\n",
    "    \n",
    "    y_preds = linear_model.predict(x_pred2)\n",
    "    \n",
    "    pyplot.plot(x_pred, y_preds, color='k', linewidth = 2)\n",
    "\n",
    "    \n",
    "    # print the summary of the linear model\n",
    "    print(linear_model.summary())\n",
    "    return pyplot.plot()\n",
    "    "
   ]
  },
  {
   "cell_type": "markdown",
   "metadata": {},
   "source": [
    "What is the important part of this linear model? Why include it? Is it saved if important?"
   ]
  },
  {
   "cell_type": "code",
   "execution_count": 43,
   "metadata": {
    "collapsed": false
   },
   "outputs": [
    {
     "name": "stdout",
     "output_type": "stream",
     "text": [
      "                            OLS Regression Results                            \n",
      "==============================================================================\n",
      "Dep. Variable:                   NDVI   R-squared:                       0.261\n",
      "Model:                            OLS   Adj. R-squared:                  0.236\n",
      "Method:                 Least Squares   F-statistic:                     10.24\n",
      "Date:                Sun, 15 Nov 2015   Prob (F-statistic):            0.00331\n",
      "Time:                        21:53:43   Log-Likelihood:                 53.577\n",
      "No. Observations:                  31   AIC:                            -103.2\n",
      "Df Residuals:                      29   BIC:                            -100.3\n",
      "Df Model:                           1                                         \n",
      "Covariance Type:            nonrobust                                         \n",
      "==============================================================================\n",
      "                 coef    std err          t      P>|t|      [95.0% Conf. Int.]\n",
      "------------------------------------------------------------------------------\n",
      "const         -4.9040      1.782     -2.753      0.010        -8.548    -1.260\n",
      "Year           0.0029      0.001      3.200      0.003         0.001     0.005\n",
      "==============================================================================\n",
      "Omnibus:                        1.730   Durbin-Watson:                   1.149\n",
      "Prob(Omnibus):                  0.421   Jarque-Bera (JB):                1.109\n",
      "Skew:                           0.121   Prob(JB):                        0.574\n",
      "Kurtosis:                       2.105   Cond. No.                     4.46e+05\n",
      "==============================================================================\n",
      "\n",
      "Warnings:\n",
      "[1] Standard Errors assume that the covariance matrix of the errors is correctly specified.\n",
      "[2] The condition number is large, 4.46e+05. This might indicate that there are\n",
      "strong multicollinearity or other numerical problems.\n"
     ]
    },
    {
     "data": {
      "text/plain": [
       "[]"
      ]
     },
     "execution_count": 43,
     "metadata": {},
     "output_type": "execute_result"
    },
    {
     "data": {
      "image/png": "[encoded data removed]",
      "text/plain": [
       "<matplotlib.figure.Figure at 0x10a844e10>"
      ]
     },
     "metadata": {},
     "output_type": "display_data"
    }
   ],
   "source": [
    "# calculate the linear model by using the lm function\n",
    "linear_model(data['Year'],data['NDVI'])"
   ]
  },
  {
   "cell_type": "code",
   "execution_count": 39,
   "metadata": {
    "collapsed": true
   },
   "outputs": [],
   "source": [
    "def multi_reg_model():\n",
    "    '''calculate the multiple regression from the dataset\n",
    "    Output: multiple regression model'''\n",
    "    \n",
    "    #import libraries \n",
    "    import statsmodels.api as sm\n",
    "    \n",
    "    x = data[['Temperature','Rain']]\n",
    "    y = data['NDVI']\n",
    "    X = sm.add_constant(x)\n",
    "    multiple_regression = sm.OLS(y, X).fit()\n",
    "    \n",
    "    print(multiple_regression.summary())"
   ]
  },
  {
   "cell_type": "code",
   "execution_count": 40,
   "metadata": {
    "collapsed": false
   },
   "outputs": [
    {
     "name": "stdout",
     "output_type": "stream",
     "text": [
      "                            OLS Regression Results                            \n",
      "==============================================================================\n",
      "Dep. Variable:                   NDVI   R-squared:                       0.021\n",
      "Model:                            OLS   Adj. R-squared:                 -0.049\n",
      "Method:                 Least Squares   F-statistic:                    0.2998\n",
      "Date:                Sun, 15 Nov 2015   Prob (F-statistic):              0.743\n",
      "Time:                        21:47:27   Log-Likelihood:                 49.217\n",
      "No. Observations:                  31   AIC:                            -92.43\n",
      "Df Residuals:                      28   BIC:                            -88.13\n",
      "Df Model:                           2                                         \n",
      "Covariance Type:            nonrobust                                         \n",
      "===============================================================================\n",
      "                  coef    std err          t      P>|t|      [95.0% Conf. Int.]\n",
      "-------------------------------------------------------------------------------\n",
      "const           0.9556      0.242      3.946      0.000         0.460     1.452\n",
      "Temperature    -0.0203      0.028     -0.718      0.478        -0.078     0.037\n",
      "Rain            0.0020      0.006      0.319      0.752        -0.011     0.015\n",
      "==============================================================================\n",
      "Omnibus:                        2.981   Durbin-Watson:                   0.868\n",
      "Prob(Omnibus):                  0.225   Jarque-Bera (JB):                2.665\n",
      "Skew:                          -0.684   Prob(JB):                        0.264\n",
      "Kurtosis:                       2.560   Cond. No.                         295.\n",
      "==============================================================================\n",
      "\n",
      "Warnings:\n",
      "[1] Standard Errors assume that the covariance matrix of the errors is correctly specified.\n"
     ]
    }
   ],
   "source": [
    "# calculate the multiple regression using the mm function\n",
    "multi_reg_model()"
   ]
  },
  {
   "cell_type": "code",
   "execution_count": 41,
   "metadata": {
    "collapsed": true
   },
   "outputs": [],
   "source": [
    "def mm_interation():\n",
    "    '''calculate the interaction in the multiple regression\n",
    "    Output: Interaction terms'''\n",
    "    \n",
    "    #what interaction?\n",
    "    \n",
    "    #Import Libraries\n",
    "    import statsmodels.api as sm\n",
    "    \n",
    "    interaction = smf.ols(formula = 'NDVI ~ Temperature * Rain', data=data).fit()\n",
    "    \n",
    "    print(interaction.summary())"
   ]
  },
  {
   "cell_type": "code",
   "execution_count": 34,
   "metadata": {
    "collapsed": false
   },
   "outputs": [
    {
     "name": "stdout",
     "output_type": "stream",
     "text": [
      "                            OLS Regression Results                            \n",
      "==============================================================================\n",
      "Dep. Variable:                   NDVI   R-squared:                       0.099\n",
      "Model:                            OLS   Adj. R-squared:                 -0.001\n",
      "Method:                 Least Squares   F-statistic:                    0.9868\n",
      "Date:                Sun, 15 Nov 2015   Prob (F-statistic):              0.414\n",
      "Time:                        21:38:13   Log-Likelihood:                 50.501\n",
      "No. Observations:                  31   AIC:                            -93.00\n",
      "Df Residuals:                      27   BIC:                            -87.27\n",
      "Df Model:                           3                                         \n",
      "Covariance Type:            nonrobust                                         \n",
      "====================================================================================\n",
      "                       coef    std err          t      P>|t|      [95.0% Conf. Int.]\n",
      "------------------------------------------------------------------------------------\n",
      "Intercept            2.8224      1.245      2.267      0.032         0.268     5.377\n",
      "Temperature         -0.2384      0.145     -1.639      0.113        -0.537     0.060\n",
      "Rain                -0.2568      0.170     -1.514      0.142        -0.605     0.091\n",
      "Temperature:Rain     0.0302      0.020      1.527      0.138        -0.010     0.071\n",
      "==============================================================================\n",
      "Omnibus:                        3.949   Durbin-Watson:                   0.829\n",
      "Prob(Omnibus):                  0.139   Jarque-Bera (JB):                3.221\n",
      "Skew:                          -0.789   Prob(JB):                        0.200\n",
      "Kurtosis:                       2.924   Cond. No.                     8.93e+03\n",
      "==============================================================================\n",
      "\n",
      "Warnings:\n",
      "[1] Standard Errors assume that the covariance matrix of the errors is correctly specified.\n",
      "[2] The condition number is large, 8.93e+03. This might indicate that there are\n",
      "strong multicollinearity or other numerical problems.\n"
     ]
    }
   ],
   "source": [
    "# calculate the interaction in the multiple regression \n",
    "mm_interation()"
   ]
  },
  {
   "cell_type": "code",
   "execution_count": 29,
   "metadata": {
    "collapsed": false
   },
   "outputs": [],
   "source": [
    "#I would include this in your first function, where I did when it's done\n",
    "\n",
    "def lm_plot(x,y):\n",
    "    '''plot the choosen variables with abline line (regression line, or line of best fit)\n",
    "    Input:independent variable (x), and dependent variable (y)\n",
    "    Output: Scatter plot based on the input variables and the line of best fit'''\n",
    "    \n",
    "    #import Libraries \n",
    "    import statsmodels.api as sm\n",
    "    import numpy as np\n",
    "    from matplotlib import pyplot, pylab\n",
    "    \n",
    "    X = sm.add_constant(x)\n",
    "    linear_model = sm.formula.OLS(y, X).fit()\n",
    "    \n",
    "    x_pred = np.linspace(x.min(),x.max(), 30)\n",
    "    \n",
    "    x_pred2 = sm.add_constant(x_pred)\n",
    "    \n",
    "    y_preds = linear_model.predict(x_pred2)\n",
    "    \n",
    "    pyplot.plot(x_pred, y_preds, color='k', linewidth = 2)\n",
    "    \n",
    "    return pyplot.plot()\n",
    "    \n",
    "    "
   ]
  },
  {
   "cell_type": "code",
   "execution_count": 30,
   "metadata": {
    "collapsed": true
   },
   "outputs": [],
   "source": [
    "def plot(x, y):\n",
    "    '''plot the choosen variables\n",
    "    Input:independent variable (x), and dependent variable (y)\n",
    "    Output: Scatter plot based on the input variables'''\n",
    "    \n",
    "    #import libraries \n",
    "    from matplotlib import pyplot, pylab\n",
    "    \n",
    "    plot = pyplot.scatter(x,y)\n",
    "    lm_plot(x,y)\n",
    "    pylab.xlabel(x.name, fontsize=12)\n",
    "    pylab.ylabel(y.name, fontsize=12)\n",
    "    \n",
    "    #pyplot.savfig()?\n",
    "    \n",
    "    pyplot.show()"
   ]
  },
  {
   "cell_type": "code",
   "execution_count": 31,
   "metadata": {
    "collapsed": false
   },
   "outputs": [],
   "source": [
    "# loading the data\n",
    "data = pd.read_csv('../data/condense_data.csv', sep=',')"
   ]
  },
  {
   "cell_type": "code",
   "execution_count": 35,
   "metadata": {
    "collapsed": false
   },
   "outputs": [
    {
     "name": "stderr",
     "output_type": "stream",
     "text": [
      "/Users/sabrinadesoto/anaconda/lib/python3.4/site-packages/matplotlib/collections.py:590: FutureWarning: elementwise comparison failed; returning scalar instead, but in the future will perform elementwise comparison\n",
      "  if self._edgecolors == str('face'):\n"
     ]
    },
    {
     "data": {
      "image/png": "[encoded data removed]",
      "text/plain": [
       "<matplotlib.figure.Figure at 0x10a596208>"
      ]
     },
     "metadata": {},
     "output_type": "display_data"
    }
   ],
   "source": [
    "# plotting the Year vs NDVI using the plot function\n",
    "plot(data['Year'],data['NDVI'])"
   ]
  },
  {
   "cell_type": "code",
   "execution_count": null,
   "metadata": {
    "collapsed": true
   },
   "outputs": [],
   "source": []
  }
 ],
 "metadata": {
  "kernelspec": {
   "display_name": "Python 3",
   "language": "python",
   "name": "python3"
  },
  "language_info": {
   "codemirror_mode": {
    "name": "ipython",
    "version": 3
   },
   "file_extension": ".py",
   "mimetype": "text/x-python",
   "name": "python",
   "nbconvert_exporter": "python",
   "pygments_lexer": "ipython3",
   "version": "3.4.3"
  }
 },
 "nbformat": 4,
 "nbformat_minor": 0
}
