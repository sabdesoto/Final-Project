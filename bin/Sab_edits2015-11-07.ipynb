{
 "cells": [
  {
   "cell_type": "code",
   "execution_count": 5,
   "metadata": {
    "collapsed": true
   },
   "outputs": [],
   "source": [
    "# import libraries\n",
    "import pandas as pd \n",
    "import matplotlib.pyplot as plt\n",
    "\n",
    "# stats libraries\n",
    "import statsmodels.api as sm\n",
    "import scipy\n",
    "\n",
    "# show plots in the notebook\n",
    "%matplotlib inline \n",
    "\n",
    "# this limit the data that will be shown, so I won't be seeing a huge dataset, but the first and last few\n",
    "from pandas import set_option\n",
    "set_option('display.max_rows',6)"
   ]
  },
  {
   "cell_type": "code",
   "execution_count": 6,
   "metadata": {
    "collapsed": false
   },
   "outputs": [
    {
     "data": {
      "text/html": [
       "<div>\n",
       "<table border=\"1\" class=\"dataframe\">\n",
       "  <thead>\n",
       "    <tr style=\"text-align: right;\">\n",
       "      <th></th>\n",
       "      <th>VALUE</th>\n",
       "      <th>COUNT</th>\n",
       "      <th>AREA</th>\n",
       "      <th>MIN</th>\n",
       "      <th>MAX</th>\n",
       "      <th>RANGE</th>\n",
       "      <th>MEAN</th>\n",
       "      <th>STD</th>\n",
       "      <th>SUM</th>\n",
       "    </tr>\n",
       "  </thead>\n",
       "  <tbody>\n",
       "    <tr>\n",
       "      <th>0</th>\n",
       "      <td>1</td>\n",
       "      <td>5027766</td>\n",
       "      <td>0.722193</td>\n",
       "      <td>-99.90</td>\n",
       "      <td>20.88</td>\n",
       "      <td>120.78</td>\n",
       "      <td>11.12530</td>\n",
       "      <td>25.130000</td>\n",
       "      <td>55935200.00</td>\n",
       "    </tr>\n",
       "    <tr>\n",
       "      <th>1</th>\n",
       "      <td>2</td>\n",
       "      <td>1515456</td>\n",
       "      <td>0.217682</td>\n",
       "      <td>-99.90</td>\n",
       "      <td>20.88</td>\n",
       "      <td>120.78</td>\n",
       "      <td>14.51680</td>\n",
       "      <td>14.574300</td>\n",
       "      <td>21999600.00</td>\n",
       "    </tr>\n",
       "    <tr>\n",
       "      <th>2</th>\n",
       "      <td>3</td>\n",
       "      <td>1099428</td>\n",
       "      <td>0.157923</td>\n",
       "      <td>-99.90</td>\n",
       "      <td>20.88</td>\n",
       "      <td>120.78</td>\n",
       "      <td>14.66240</td>\n",
       "      <td>11.398700</td>\n",
       "      <td>16120200.00</td>\n",
       "    </tr>\n",
       "    <tr>\n",
       "      <th>...</th>\n",
       "      <td>...</td>\n",
       "      <td>...</td>\n",
       "      <td>...</td>\n",
       "      <td>...</td>\n",
       "      <td>...</td>\n",
       "      <td>...</td>\n",
       "      <td>...</td>\n",
       "      <td>...</td>\n",
       "      <td>...</td>\n",
       "    </tr>\n",
       "    <tr>\n",
       "      <th>76</th>\n",
       "      <td>77</td>\n",
       "      <td>236</td>\n",
       "      <td>0.000034</td>\n",
       "      <td>0.51</td>\n",
       "      <td>3.15</td>\n",
       "      <td>2.64</td>\n",
       "      <td>1.46449</td>\n",
       "      <td>0.995280</td>\n",
       "      <td>345.62</td>\n",
       "    </tr>\n",
       "    <tr>\n",
       "      <th>77</th>\n",
       "      <td>78</td>\n",
       "      <td>59</td>\n",
       "      <td>0.000008</td>\n",
       "      <td>0.51</td>\n",
       "      <td>2.25</td>\n",
       "      <td>1.74</td>\n",
       "      <td>1.12932</td>\n",
       "      <td>0.833103</td>\n",
       "      <td>66.63</td>\n",
       "    </tr>\n",
       "    <tr>\n",
       "      <th>78</th>\n",
       "      <td>79</td>\n",
       "      <td>15</td>\n",
       "      <td>0.000002</td>\n",
       "      <td>0.51</td>\n",
       "      <td>0.51</td>\n",
       "      <td>0.00</td>\n",
       "      <td>0.51000</td>\n",
       "      <td>0.000000</td>\n",
       "      <td>7.65</td>\n",
       "    </tr>\n",
       "  </tbody>\n",
       "</table>\n",
       "<p>79 rows × 9 columns</p>\n",
       "</div>"
      ],
      "text/plain": [
       "    VALUE    COUNT      AREA    MIN    MAX   RANGE      MEAN        STD  \\\n",
       "0       1  5027766  0.722193 -99.90  20.88  120.78  11.12530  25.130000   \n",
       "1       2  1515456  0.217682 -99.90  20.88  120.78  14.51680  14.574300   \n",
       "2       3  1099428  0.157923 -99.90  20.88  120.78  14.66240  11.398700   \n",
       "..    ...      ...       ...    ...    ...     ...       ...        ...   \n",
       "76     77      236  0.000034   0.51   3.15    2.64   1.46449   0.995280   \n",
       "77     78       59  0.000008   0.51   2.25    1.74   1.12932   0.833103   \n",
       "78     79       15  0.000002   0.51   0.51    0.00   0.51000   0.000000   \n",
       "\n",
       "            SUM  \n",
       "0   55935200.00  \n",
       "1   21999600.00  \n",
       "2   16120200.00  \n",
       "..          ...  \n",
       "76       345.62  \n",
       "77        66.63  \n",
       "78         7.65  \n",
       "\n",
       "[79 rows x 9 columns]"
      ]
     },
     "execution_count": 6,
     "metadata": {},
     "output_type": "execute_result"
    }
   ],
   "source": [
    "# load dataset\n",
    "filename = '../data/t198201_elev.csv'\n",
    "\n",
    "temp82_01 = pd.read_csv(filename, sep=',')\n",
    "temp82_01"
   ]
  },
  {
   "cell_type": "code",
   "execution_count": 20,
   "metadata": {
    "collapsed": false
   },
   "outputs": [],
   "source": [
    "# The dataset uses VALUE 1-79 as a elevation range (1 = 0-50m, 2 = 50-100m, 3 = 100-150m, and so on)\n",
    "# I want to make it more explicit, so I added the elevation column\n",
    "temp82_01['Elevation(m)']=temp82_01['VALUE']*50\n",
    "\n",
    "#tried to add unit for clarification but I think it printed both, you choose!"
   ]
  },
  {
   "cell_type": "code",
   "execution_count": 22,
   "metadata": {
    "collapsed": false
   },
   "outputs": [
    {
     "name": "stdout",
     "output_type": "stream",
     "text": [
      "   VALUE    COUNT      AREA   MIN    MAX   RANGE     MEAN       STD       SUM  \\\n",
      "0      1  5027766  0.722193 -99.9  20.88  120.78  11.1253  25.13000  55935200   \n",
      "1      2  1515456  0.217682 -99.9  20.88  120.78  14.5168  14.57430  21999600   \n",
      "2      3  1099428  0.157923 -99.9  20.88  120.78  14.6624  11.39870  16120200   \n",
      "3      4   867898  0.124666 -99.9  20.83  120.73  14.6919   9.14129  12751100   \n",
      "4      5   754824  0.108424 -99.9  20.83  120.73  14.7871   7.29792  11161600   \n",
      "\n",
      "   Elevation  Elevation(m)  \n",
      "0         50            50  \n",
      "1        100           100  \n",
      "2        150           150  \n",
      "3        200           200  \n",
      "4        250           250  \n"
     ]
    }
   ],
   "source": [
    "#add table head to show column was added\n",
    "print(temp82_01.head())"
   ]
  },
  {
   "cell_type": "code",
   "execution_count": 23,
   "metadata": {
    "collapsed": false
   },
   "outputs": [
    {
     "name": "stdout",
     "output_type": "stream",
     "text": [
      "7.768136835443035\n"
     ]
    }
   ],
   "source": [
    "# Calculate the mean (of the MEAN) temperatures of all elevation range in January 1982\n",
    "#clarify^\n",
    "\n",
    "print(temp82_01['MEAN'].mean())\n",
    "\n",
    "#say when loaded table that its for jan. 1982 if that's how you'll refrence it through out\n"
   ]
  },
  {
   "cell_type": "code",
   "execution_count": 26,
   "metadata": {
    "collapsed": false
   },
   "outputs": [
    {
     "data": {
      "text/plain": [
       "<matplotlib.text.Text at 0x10aea9f60>"
      ]
     },
     "execution_count": 26,
     "metadata": {},
     "output_type": "execute_result"
    },
    {
     "data": {
      "image/png": "[encoded data removed]",
      "text/plain": [
       "<matplotlib.figure.Figure at 0x10ae81198>"
      ]
     },
     "metadata": {},
     "output_type": "display_data"
    }
   ],
   "source": [
    "#need title and comment for this step\n",
    "#graph is a nice readable size \n",
    "\n",
    "plt.plot(temp82_01.Elevation, temp82_01.MEAN, marker='o',markersize=2, linestyle='')\n",
    "plt.xlabel(\"Elevation (m)\")\n",
    "plt.ylabel(\"Temperature (°c)\")\n",
    "plt.title('January 1982 Temps. by elevation')"
   ]
  },
  {
   "cell_type": "markdown",
   "metadata": {},
   "source": [
    "Note the appearance of the graph to keep reader on track that your next step will be to analyze and add a trend line."
   ]
  },
  {
   "cell_type": "code",
   "execution_count": 25,
   "metadata": {
    "collapsed": false
   },
   "outputs": [
    {
     "data": {
      "text/plain": [
       "<matplotlib.text.Text at 0x10add3cc0>"
      ]
     },
     "execution_count": 25,
     "metadata": {},
     "output_type": "execute_result"
    },
    {
     "data": {
      "image/png": "[encoded data removed]",
      "text/plain": [
       "<matplotlib.figure.Figure at 0x10ad9e0f0>"
      ]
     },
     "metadata": {},
     "output_type": "display_data"
    }
   ],
   "source": [
    "# This particular boxplot is not super helpful at this point, but Boxplot will be \n",
    "#extremely useful when I load the entire dataset (from 1982 to 2012), and I can see the \n",
    "#temperature changes in each month, each year, or each decade.\n",
    "\n",
    "plt.boxplot(temp82_01['MEAN'])\n",
    "\n",
    "plt.ylabel('Temperature (°c)')\n",
    "plt.xlabel(\"January 1982\")\n",
    "plt.title('Distribution of Temp. for Jan. 1982')"
   ]
  },
  {
   "cell_type": "code",
   "execution_count": 11,
   "metadata": {
    "collapsed": false
   },
   "outputs": [],
   "source": [
    "#using ordinal least square to run linear regression to find the relationship \n",
    "#between temperature and elevation\n",
    "\n",
    "temp_lm = sm.formula.ols(formula='MEAN ~ VALUE', data=temp82_01).fit()"
   ]
  },
  {
   "cell_type": "code",
   "execution_count": 12,
   "metadata": {
    "collapsed": false
   },
   "outputs": [
    {
     "data": {
      "text/plain": [
       "Intercept    15.546209\n",
       "VALUE        -0.194452\n",
       "dtype: float64"
      ]
     },
     "execution_count": 12,
     "metadata": {},
     "output_type": "execute_result"
    }
   ],
   "source": [
    "#looking for the linear regression (y-intercept and slope) to construct a line equation\n",
    "\n",
    "temp_lm.params"
   ]
  },
  {
   "cell_type": "code",
   "execution_count": 13,
   "metadata": {
    "collapsed": false
   },
   "outputs": [],
   "source": [
    "#maybe say why this is necessary \n",
    "#generate a data frame using pandas to produce a list of numbers from 1 to 80\n",
    "newx = pd.DataFrame({'VALUE' : range(1,80)})\n",
    "\n",
    "#using the lm.predict to predict the y (temperature value) based on x (elevation)\n",
    "y_preds = temp_lm.predict(newx)"
   ]
  },
  {
   "cell_type": "code",
   "execution_count": 14,
   "metadata": {
    "collapsed": false
   },
   "outputs": [
    {
     "data": {
      "text/plain": [
       "[<matplotlib.lines.Line2D at 0x10a908ef0>]"
      ]
     },
     "execution_count": 14,
     "metadata": {},
     "output_type": "execute_result"
    },
    {
     "name": "stderr",
     "output_type": "stream",
     "text": [
      "/Users/sabrinadesoto/anaconda/lib/python3.4/site-packages/matplotlib/collections.py:590: FutureWarning: elementwise comparison failed; returning scalar instead, but in the future will perform elementwise comparison\n",
      "  if self._edgecolors == str('face'):\n"
     ]
    },
    {
     "data": {
      "image/png": "[encoded data removed]",
      "text/plain": [
       "<matplotlib.figure.Figure at 0x10a77bd30>"
      ]
     },
     "metadata": {},
     "output_type": "display_data"
    }
   ],
   "source": [
    "#generate a scatterplot on the temperature and elevation\n",
    "temp82_01.plot(kind='scatter',x=\"VALUE\", y='MEAN',c='w')\n",
    "#ploting the abline \n",
    "plt.plot(newx, y_preds, color='red',linewidth=2)"
   ]
  },
  {
   "cell_type": "code",
   "execution_count": 15,
   "metadata": {
    "collapsed": false
   },
   "outputs": [
    {
     "name": "stdout",
     "output_type": "stream",
     "text": [
      "                            OLS Regression Results                            \n",
      "==============================================================================\n",
      "Dep. Variable:                   MEAN   R-squared:                       0.982\n",
      "Model:                            OLS   Adj. R-squared:                  0.982\n",
      "Method:                 Least Squares   F-statistic:                     4258.\n",
      "Date:                Tue, 10 Nov 2015   Prob (F-statistic):           3.69e-69\n",
      "Time:                        11:10:23   Log-Likelihood:                -71.251\n",
      "No. Observations:                  79   AIC:                             146.5\n",
      "Df Residuals:                      77   BIC:                             151.2\n",
      "Df Model:                           1                                         \n",
      "Covariance Type:            nonrobust                                         \n",
      "==============================================================================\n",
      "                 coef    std err          t      P>|t|      [95.0% Conf. Int.]\n",
      "------------------------------------------------------------------------------\n",
      "Intercept     15.5462      0.137    113.303      0.000        15.273    15.819\n",
      "VALUE         -0.1945      0.003    -65.253      0.000        -0.200    -0.189\n",
      "==============================================================================\n",
      "Omnibus:                      109.950   Durbin-Watson:                   0.495\n",
      "Prob(Omnibus):                  0.000   Jarque-Bera (JB):             3065.797\n",
      "Skew:                          -4.313   Prob(JB):                         0.00\n",
      "Kurtosis:                      32.274   Cond. No.                         93.0\n",
      "==============================================================================\n",
      "\n",
      "Warnings:\n",
      "[1] Standard Errors assume that the covariance matrix of the errors is correctly specified.\n"
     ]
    }
   ],
   "source": [
    "#look for the summary for this linear model (looking for p-value and r-squared)\n",
    "#we see that p-value is really low, which means the result is significant and not caused by random chances\n",
    "#r-squared is extrememly high suggesting that the data fit the model very well. \n",
    "print(temp_lm.summary())"
   ]
  },
  {
   "cell_type": "code",
   "execution_count": 16,
   "metadata": {
    "collapsed": false
   },
   "outputs": [
    {
     "data": {
      "text/plain": [
       "array([[<matplotlib.axes._subplots.AxesSubplot object at 0x10a77b9e8>]], dtype=object)"
      ]
     },
     "execution_count": 16,
     "metadata": {},
     "output_type": "execute_result"
    },
    {
     "data": {
      "image/png": "[encoded data removed]",
      "text/plain": [
       "<matplotlib.figure.Figure at 0x10a85c278>"
      ]
     },
     "metadata": {},
     "output_type": "display_data"
    }
   ],
   "source": [
    "#to investigate the normality of the linear regression condition\n",
    "#we see that it is not normally distributed, so perhaps other test would be more accurate.\n",
    "temp82_01.hist(column='MEAN',bins=40)"
   ]
  },
  {
   "cell_type": "code",
   "execution_count": null,
   "metadata": {
    "collapsed": true
   },
   "outputs": [],
   "source": []
  }
 ],
 "metadata": {
  "kernelspec": {
   "display_name": "Python 3",
   "language": "python",
   "name": "python3"
  },
  "language_info": {
   "codemirror_mode": {
    "name": "ipython",
    "version": 3
   },
   "file_extension": ".py",
   "mimetype": "text/x-python",
   "name": "python",
   "nbconvert_exporter": "python",
   "pygments_lexer": "ipython3",
   "version": "3.4.3"
  }
 },
 "nbformat": 4,
 "nbformat_minor": 0
}
