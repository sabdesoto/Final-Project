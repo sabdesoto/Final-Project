{
 "cells": [
  {
   "cell_type": "code",
   "execution_count": 2,
   "metadata": {
    "collapsed": true
   },
   "outputs": [],
   "source": [
    "# import libraries\n",
    "import pandas as pd \n",
    "import matplotlib.pyplot as plt\n",
    "\n",
    "# stats libraries\n",
    "import statsmodels.api as sm\n",
    "import scipy\n",
    "\n",
    "# show plots in the notebook\n",
    "%matplotlib inline \n",
    "\n",
    "# this limits the data that will be shown, showing only a few rows\n",
    "from pandas import set_option\n",
    "set_option('display.max_rows',6)"
   ]
  },
  {
   "cell_type": "code",
   "execution_count": 3,
   "metadata": {
    "collapsed": false
   },
   "outputs": [
    {
     "name": "stdout",
     "output_type": "stream",
     "text": [
      "   VALUE    COUNT      AREA   MIN    MAX   RANGE     MEAN       STD       SUM\n",
      "0      1  5027766  0.722193 -99.9  20.88  120.78  11.1253  25.13000  55935200\n",
      "1      2  1515456  0.217682 -99.9  20.88  120.78  14.5168  14.57430  21999600\n",
      "2      3  1099428  0.157923 -99.9  20.88  120.78  14.6624  11.39870  16120200\n",
      "3      4   867898  0.124666 -99.9  20.83  120.73  14.6919   9.14129  12751100\n",
      "4      5   754824  0.108424 -99.9  20.83  120.73  14.7871   7.29792  11161600\n"
     ]
    }
   ],
   "source": [
    "# load dataset\n",
    "filename = '../data/t198201_elev.csv'\n",
    "\n",
    "temp82_01 = pd.read_csv(filename, sep=',')\n",
    "print(temp82_01.head())"
   ]
  },
  {
   "cell_type": "markdown",
   "metadata": {},
   "source": [
    "The dataset uses VALUE 1-79 as a elevation range (1 = 0-50m, 2 = 50-100m, 3 = 100-150m, ect.), for readability an additional 'elevation' collumn will make this more explicit."
   ]
  },
  {
   "cell_type": "code",
   "execution_count": 14,
   "metadata": {
    "collapsed": false
   },
   "outputs": [
    {
     "name": "stdout",
     "output_type": "stream",
     "text": [
      "    VALUE    COUNT      AREA    MIN    MAX   RANGE      MEAN        STD  \\\n",
      "0       1  5027766  0.722193 -99.90  20.88  120.78  11.12530  25.130000   \n",
      "1       2  1515456  0.217682 -99.90  20.88  120.78  14.51680  14.574300   \n",
      "2       3  1099428  0.157923 -99.90  20.88  120.78  14.66240  11.398700   \n",
      "..    ...      ...       ...    ...    ...     ...       ...        ...   \n",
      "76     77      236  0.000034   0.51   3.15    2.64   1.46449   0.995280   \n",
      "77     78       59  0.000008   0.51   2.25    1.74   1.12932   0.833103   \n",
      "78     79       15  0.000002   0.51   0.51    0.00   0.51000   0.000000   \n",
      "\n",
      "            SUM  Elevation  \n",
      "0   55935200.00         50  \n",
      "1   21999600.00        100  \n",
      "2   16120200.00        150  \n",
      "..          ...        ...  \n",
      "76       345.62       3850  \n",
      "77        66.63       3900  \n",
      "78         7.65       3950  \n",
      "\n",
      "[79 rows x 10 columns]\n"
     ]
    }
   ],
   "source": [
    "#added the elevation column\n",
    "temp82_01['Elevation']=temp82_01['VALUE']*50\n",
    "print(temp82_01)"
   ]
  },
  {
   "cell_type": "code",
   "execution_count": 5,
   "metadata": {
    "collapsed": false
   },
   "outputs": [
    {
     "name": "stdout",
     "output_type": "stream",
     "text": [
      "7.768136835443035\n"
     ]
    }
   ],
   "source": [
    "# Calculate the mean temperature of all elevation range in January 1982\n",
    "print(temp82_01['MEAN'].mean())"
   ]
  },
  {
   "cell_type": "markdown",
   "metadata": {},
   "source": [
    "This tells me the average temperature in January 1982 throughout all elevation range, I can use this to compare with other year in the same month (for example, comparing this average to January 2012)."
   ]
  },
  {
   "cell_type": "code",
   "execution_count": 24,
   "metadata": {
    "collapsed": false
   },
   "outputs": [
    {
     "data": {
      "image/png": "[encoded data removed]",
      "text/plain": [
       "<matplotlib.figure.Figure at 0x10b3b5c18>"
      ]
     },
     "metadata": {},
     "output_type": "display_data"
    }
   ],
   "source": [
    "#plot elevation vs. temp for data visualization\n",
    "plt.plot(temp82_01.Elevation, temp82_01.MEAN, marker='o',markersize=2, linestyle='')\n",
    "\n",
    "plt.xlabel(\"Elevation (m)\")\n",
    "plt.xlim(0, 4200)\n",
    "\n",
    "plt.ylabel(\"Temperature (°c)\")\n",
    "plt.ylim(0,17)\n",
    "\n",
    "plt.title('Change in Temperature for Increased Elevation', fontsize=14)\n",
    "\n",
    "plt.show()"
   ]
  },
  {
   "cell_type": "markdown",
   "metadata": {},
   "source": [
    "This particular boxplot is not super helpful at this point, but Boxplot will be extremely useful when I load the entire dataset (from 1982 to 2012), and I can see the temperature changes in each month, each year, or each decade."
   ]
  },
  {
   "cell_type": "code",
   "execution_count": 25,
   "metadata": {
    "collapsed": false
   },
   "outputs": [
    {
     "data": {
      "image/png": "[encoded data removed]",
      "text/plain": [
       "<matplotlib.figure.Figure at 0x10b2ee518>"
      ]
     },
     "metadata": {},
     "output_type": "display_data"
    }
   ],
   "source": [
    "#Created Box plot \n",
    "plt.boxplot(temp82_01['MEAN'])\n",
    "plt.ylabel('Temperature (°c)')\n",
    "plt.xlabel(\"January 1982\")\n",
    "plt.title('1982 Distibution of Temperature')\n",
    "plt.show()"
   ]
  },
  {
   "cell_type": "code",
   "execution_count": 8,
   "metadata": {
    "collapsed": false
   },
   "outputs": [],
   "source": [
    "#apply ordinal least square to run linear regression to find the relationship between \n",
    "#temperature and elevation\n",
    "temp_lm = sm.formula.ols(formula='MEAN ~ VALUE', data=temp82_01).fit()"
   ]
  },
  {
   "cell_type": "code",
   "execution_count": 26,
   "metadata": {
    "collapsed": false
   },
   "outputs": [
    {
     "name": "stdout",
     "output_type": "stream",
     "text": [
      "Intercept    15.546209\n",
      "VALUE        -0.194452\n",
      "dtype: float64\n"
     ]
    }
   ],
   "source": [
    "#create y-intercept and slope (to construct a line equation)\n",
    "print(temp_lm.params)"
   ]
  },
  {
   "cell_type": "code",
   "execution_count": 10,
   "metadata": {
    "collapsed": false
   },
   "outputs": [],
   "source": [
    "#generate a data frame using pandas to produce a list of numbers from 1 to 80\n",
    "newx = pd.DataFrame({'VALUE' : range(1,80)})\n",
    "\n",
    "#using the lm.predict to predict the y (temperature value) based on x (elevation)\n",
    "y_preds = temp_lm.predict(newx)"
   ]
  },
  {
   "cell_type": "code",
   "execution_count": 27,
   "metadata": {
    "collapsed": false
   },
   "outputs": [
    {
     "name": "stderr",
     "output_type": "stream",
     "text": [
      "/Users/sabrinadesoto/anaconda/lib/python3.4/site-packages/matplotlib/collections.py:590: FutureWarning: elementwise comparison failed; returning scalar instead, but in the future will perform elementwise comparison\n",
      "  if self._edgecolors == str('face'):\n"
     ]
    },
    {
     "data": {
      "image/png": "[encoded data removed]",
      "text/plain": [
       "<matplotlib.figure.Figure at 0x10b685898>"
      ]
     },
     "metadata": {},
     "output_type": "display_data"
    }
   ],
   "source": [
    "#generate a scatterplot on the temperature and elevation\n",
    "temp82_01.plot(kind='scatter',x=\"VALUE\", y='MEAN',c='w')\n",
    "\n",
    "#ploting the abline \n",
    "plt.plot(newx, y_preds, color='red',linewidth=2)\n",
    "plt.show()\n",
    "\n",
    "#edit axis labels and add title"
   ]
  },
  {
   "cell_type": "code",
   "execution_count": 12,
   "metadata": {
    "collapsed": false
   },
   "outputs": [
    {
     "name": "stdout",
     "output_type": "stream",
     "text": [
      "                            OLS Regression Results                            \n",
      "==============================================================================\n",
      "Dep. Variable:                   MEAN   R-squared:                       0.982\n",
      "Model:                            OLS   Adj. R-squared:                  0.982\n",
      "Method:                 Least Squares   F-statistic:                     4258.\n",
      "Date:                Thu, 12 Nov 2015   Prob (F-statistic):           3.69e-69\n",
      "Time:                        01:09:45   Log-Likelihood:                -71.251\n",
      "No. Observations:                  79   AIC:                             146.5\n",
      "Df Residuals:                      77   BIC:                             151.2\n",
      "Df Model:                           1                                         \n",
      "Covariance Type:            nonrobust                                         \n",
      "==============================================================================\n",
      "                 coef    std err          t      P>|t|      [95.0% Conf. Int.]\n",
      "------------------------------------------------------------------------------\n",
      "Intercept     15.5462      0.137    113.303      0.000        15.273    15.819\n",
      "VALUE         -0.1945      0.003    -65.253      0.000        -0.200    -0.189\n",
      "==============================================================================\n",
      "Omnibus:                      109.950   Durbin-Watson:                   0.495\n",
      "Prob(Omnibus):                  0.000   Jarque-Bera (JB):             3065.797\n",
      "Skew:                          -4.313   Prob(JB):                         0.00\n",
      "Kurtosis:                      32.274   Cond. No.                         93.0\n",
      "==============================================================================\n",
      "\n",
      "Warnings:\n",
      "[1] Standard Errors assume that the covariance matrix of the errors is correctly specified.\n"
     ]
    }
   ],
   "source": [
    "#summary for this linear model (looking for p-value and r-squared)\n",
    "print(temp_lm.summary())"
   ]
  },
  {
   "cell_type": "markdown",
   "metadata": {},
   "source": [
    "Above, we see that p-value is really low, which means the result is significant and not caused by random chances r-squared is extrememly high suggesting that the data fit the model very well. "
   ]
  },
  {
   "cell_type": "code",
   "execution_count": 30,
   "metadata": {
    "collapsed": false
   },
   "outputs": [
    {
     "data": {
      "image/png": "[encoded data removed]",
      "text/plain": [
       "<matplotlib.figure.Figure at 0x10b5c6780>"
      ]
     },
     "metadata": {},
     "output_type": "display_data"
    }
   ],
   "source": [
    "#created histogram to asses data normality\n",
    "temp82_01.hist(column='MEAN',bins=40)\n",
    "plt.show()\n",
    "\n",
    "#axis labels"
   ]
  },
  {
   "cell_type": "markdown",
   "metadata": {
    "collapsed": true
   },
   "source": [
    "To investigate the normality of the linear regression condition we see that it is not normally distributed, so perhaps other test would be more accurate."
   ]
  },
  {
   "cell_type": "code",
   "execution_count": 31,
   "metadata": {
    "collapsed": true
   },
   "outputs": [],
   "source": [
    "#great job! whats next? "
   ]
  },
  {
   "cell_type": "code",
   "execution_count": null,
   "metadata": {
    "collapsed": true
   },
   "outputs": [],
   "source": []
  }
 ],
 "metadata": {
  "kernelspec": {
   "display_name": "Python 3",
   "language": "python",
   "name": "python3"
  },
  "language_info": {
   "codemirror_mode": {
    "name": "ipython",
    "version": 3
   },
   "file_extension": ".py",
   "mimetype": "text/x-python",
   "name": "python",
   "nbconvert_exporter": "python",
   "pygments_lexer": "ipython3",
   "version": "3.4.3"
  }
 },
 "nbformat": 4,
 "nbformat_minor": 0
}
